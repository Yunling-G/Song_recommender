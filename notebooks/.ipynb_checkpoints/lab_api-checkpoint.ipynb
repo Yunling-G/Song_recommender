{
 "cells": [
  {
   "cell_type": "code",
   "execution_count": 1,
   "id": "e5024102",
   "metadata": {},
   "outputs": [],
   "source": [
    "import sys\n",
    "from config import *\n",
    "import pandas as pd"
   ]
  },
  {
   "cell_type": "code",
   "execution_count": 2,
   "id": "e54cd431",
   "metadata": {},
   "outputs": [],
   "source": [
    "import spotipy\n",
    "import json\n",
    "from spotipy.oauth2 import SpotifyClientCredentials\n",
    "from time import sleep"
   ]
  },
  {
   "cell_type": "code",
   "execution_count": 3,
   "id": "d8b66fd8",
   "metadata": {},
   "outputs": [],
   "source": [
    "#Initialize SpotiPy with user credentias\n",
    "sp = spotipy.Spotify(auth_manager=SpotifyClientCredentials(client_id= client_id,\n",
    "                                                           client_secret= client_secret))"
   ]
  },
  {
   "cell_type": "code",
   "execution_count": 4,
   "id": "946138e9",
   "metadata": {},
   "outputs": [],
   "source": [
    "hot_song = pd.read_csv('../data/raw/hot100.csv')"
   ]
  },
  {
   "cell_type": "code",
   "execution_count": 23,
   "id": "a16d2f66",
   "metadata": {},
   "outputs": [
    {
     "data": {
      "text/html": [
       "<div>\n",
       "<style scoped>\n",
       "    .dataframe tbody tr th:only-of-type {\n",
       "        vertical-align: middle;\n",
       "    }\n",
       "\n",
       "    .dataframe tbody tr th {\n",
       "        vertical-align: top;\n",
       "    }\n",
       "\n",
       "    .dataframe thead th {\n",
       "        text-align: right;\n",
       "    }\n",
       "</style>\n",
       "<table border=\"1\" class=\"dataframe\">\n",
       "  <thead>\n",
       "    <tr style=\"text-align: right;\">\n",
       "      <th></th>\n",
       "      <th>song</th>\n",
       "      <th>artist</th>\n",
       "    </tr>\n",
       "  </thead>\n",
       "  <tbody>\n",
       "    <tr>\n",
       "      <th>0</th>\n",
       "      <td>Flowers</td>\n",
       "      <td>Miley Cyrus</td>\n",
       "    </tr>\n",
       "    <tr>\n",
       "      <th>1</th>\n",
       "      <td>Kill Bill</td>\n",
       "      <td>SZA</td>\n",
       "    </tr>\n",
       "    <tr>\n",
       "      <th>2</th>\n",
       "      <td>Last Night</td>\n",
       "      <td>Morgan Wallen</td>\n",
       "    </tr>\n",
       "    <tr>\n",
       "      <th>3</th>\n",
       "      <td>Unholy</td>\n",
       "      <td>Sam Smith &amp; Kim Petras</td>\n",
       "    </tr>\n",
       "    <tr>\n",
       "      <th>4</th>\n",
       "      <td>Creepin'</td>\n",
       "      <td>Metro Boomin, The Weeknd &amp; 21 Savage</td>\n",
       "    </tr>\n",
       "    <tr>\n",
       "      <th>...</th>\n",
       "      <td>...</td>\n",
       "      <td>...</td>\n",
       "    </tr>\n",
       "    <tr>\n",
       "      <th>95</th>\n",
       "      <td>Yandel 150</td>\n",
       "      <td>Yandel &amp; Feid</td>\n",
       "    </tr>\n",
       "    <tr>\n",
       "      <th>96</th>\n",
       "      <td>Heart To Heart</td>\n",
       "      <td>Mac DeMarco</td>\n",
       "    </tr>\n",
       "    <tr>\n",
       "      <th>97</th>\n",
       "      <td>Next Thing You Know</td>\n",
       "      <td>Jordan Davis</td>\n",
       "    </tr>\n",
       "    <tr>\n",
       "      <th>98</th>\n",
       "      <td>Never Gonna Not Dance Again</td>\n",
       "      <td>P!nk</td>\n",
       "    </tr>\n",
       "    <tr>\n",
       "      <th>99</th>\n",
       "      <td>Open Arms</td>\n",
       "      <td>SZA Featuring Travis Scott</td>\n",
       "    </tr>\n",
       "  </tbody>\n",
       "</table>\n",
       "<p>100 rows × 2 columns</p>\n",
       "</div>"
      ],
      "text/plain": [
       "                           song                                artist\n",
       "0                       Flowers                           Miley Cyrus\n",
       "1                     Kill Bill                                   SZA\n",
       "2                    Last Night                         Morgan Wallen\n",
       "3                        Unholy                Sam Smith & Kim Petras\n",
       "4                      Creepin'  Metro Boomin, The Weeknd & 21 Savage\n",
       "..                          ...                                   ...\n",
       "95                   Yandel 150                         Yandel & Feid\n",
       "96               Heart To Heart                           Mac DeMarco\n",
       "97          Next Thing You Know                          Jordan Davis\n",
       "98  Never Gonna Not Dance Again                                  P!nk\n",
       "99                    Open Arms            SZA Featuring Travis Scott\n",
       "\n",
       "[100 rows x 2 columns]"
      ]
     },
     "execution_count": 23,
     "metadata": {},
     "output_type": "execute_result"
    }
   ],
   "source": [
    "hot_song"
   ]
  },
  {
   "cell_type": "code",
   "execution_count": 5,
   "id": "0ee38f9c",
   "metadata": {},
   "outputs": [],
   "source": [
    "not_hot_song = pd.read_csv('../data/clean/not_hot.csv')"
   ]
  },
  {
   "cell_type": "code",
   "execution_count": 6,
   "id": "da483787",
   "metadata": {},
   "outputs": [],
   "source": [
    "def get_id(df):\n",
    "\n",
    "    df2 = df.copy()\n",
    "    song_ids = []\n",
    "    for i in range(0,len(df2),50):\n",
    "        print(\"Chunk: \",i)\n",
    "        titles = list(df2['song'][i:i+50].values)\n",
    "        artists = list(df2['artist'][i:i+50].values)\n",
    "        elems = list(zip(titles,artists))\n",
    "        for item in elems:\n",
    "            string = \"track:\" + item[0] + \" artist:\" + item[1]\n",
    "            print(\"Searching for song: \",item[0],\"from artist: \", item[1])\n",
    "            try:\n",
    "                results = sp.search(string, limit=1)\n",
    "                song_id = results['tracks']['items'][0]['id']\n",
    "                song_ids.append(song_id)\n",
    "            except:\n",
    "                song_id = \"None\"\n",
    "                song_ids.append(song_id)\n",
    "                print(\"Song not found!\")\n",
    "        print()\n",
    "        print(\"Waiting 10 seconds before the next chunk\")\n",
    "        sleep(10)\n",
    "\n",
    "    df2['id'] = song_ids\n",
    "\n",
    "    return df2"
   ]
  },
  {
   "cell_type": "code",
   "execution_count": 7,
   "id": "824c8201",
   "metadata": {},
   "outputs": [
    {
     "name": "stdout",
     "output_type": "stream",
     "text": [
      "Chunk:  0\n",
      "Searching for song:  Flowers from artist:  Miley Cyrus\n",
      "Searching for song:  Kill Bill from artist:  SZA\n",
      "Searching for song:  Last Night from artist:  Morgan Wallen\n",
      "Searching for song:  Unholy from artist:  Sam Smith & Kim Petras\n",
      "Searching for song:  Creepin' from artist:  Metro Boomin, The Weeknd & 21 Savage\n",
      "Searching for song:  Cuff It from artist:  Beyonce\n",
      "Searching for song:  Anti-Hero from artist:  Taylor Swift\n",
      "Searching for song:  Die For You from artist:  The Weeknd\n",
      "Searching for song:  I'm Good (Blue) from artist:  David Guetta & Bebe Rexha\n",
      "Song not found!\n",
      "Searching for song:  As It Was from artist:  Harry Styles\n",
      "Searching for song:  Rich Flex from artist:  Drake & 21 Savage\n",
      "Song not found!\n",
      "Searching for song:  Just Wanna Rock from artist:  Lil Uzi Vert\n",
      "Searching for song:  Thought You Should Know from artist:  Morgan Wallen\n",
      "Searching for song:  Boy's A Liar, Pt. 2 from artist:  PinkPantheress & Ice Spice\n",
      "Song not found!\n",
      "Searching for song:  Made You Look from artist:  Meghan Trainor\n",
      "Searching for song:  Under The Influence from artist:  Chris Brown\n",
      "Searching for song:  Golden Hour from artist:  JVKE\n",
      "Searching for song:  You Proof from artist:  Morgan Wallen\n",
      "Searching for song:  Rock And A Hard Place from artist:  Bailey Zimmerman\n",
      "Searching for song:  Something In The Orange from artist:  Zach Bryan\n",
      "Searching for song:  Thank God from artist:  Kane Brown With Katelyn Brown\n",
      "Song not found!\n",
      "Searching for song:  Bad Habit from artist:  Steve Lacy\n",
      "Searching for song:  Going, Going, Gone from artist:  Luke Combs\n",
      "Searching for song:  Escapism from artist:  RAYE Featuring 070 Shake\n",
      "Song not found!\n",
      "Searching for song:  Superhero (Heroes & Villains) from artist:  Metro Boomin, Future & Chris Brown\n",
      "Searching for song:  Lavender Haze from artist:  Taylor Swift\n",
      "Searching for song:  Calm Down from artist:  Rema & Selena Gomez\n",
      "Song not found!\n",
      "Searching for song:  Players from artist:  Coi Leray\n",
      "Searching for song:  Shirt from artist:  SZA\n",
      "Searching for song:  Sure Thing from artist:  Miguel\n",
      "Searching for song:  The Kind Of Love We Make from artist:  Luke Combs\n",
      "Searching for song:  Heart Like A Truck from artist:  Lainey Wilson\n",
      "Searching for song:  Bzrp Music Sessions, Vol. 53 from artist:  Bizarrap & Shakira\n",
      "Song not found!\n",
      "Searching for song:  Snooze from artist:  SZA\n",
      "Searching for song:  Until I Found You from artist:  Stephen Sanchez\n",
      "Searching for song:  Wait For U from artist:  Future Featuring Drake & Tems\n",
      "Song not found!\n",
      "Searching for song:  I Like You (A Happier Song) from artist:  Post Malone Featuring Doja Cat\n",
      "Song not found!\n",
      "Searching for song:  I Wrote The Book from artist:  Morgan Wallen\n",
      "Searching for song:  Bebe Dame from artist:  Fuerza Regida X Grupo Frontera\n",
      "Song not found!\n",
      "Searching for song:  Tomorrow 2 from artist:  GloRilla & Cardi B\n",
      "Song not found!\n",
      "Searching for song:  About Damn Time from artist:  Lizzo\n",
      "Searching for song:  Wait In The Truck from artist:  HARDY Featuring Lainey Wilson\n",
      "Song not found!\n",
      "Searching for song:  She Had Me At Heads Carolina from artist:  Cole Swindell\n",
      "Searching for song:  Nobody Gets Me from artist:  SZA\n",
      "Searching for song:  What My World Spins Around from artist:  Jordan Davis\n",
      "Searching for song:  Unstoppable from artist:  Sia\n",
      "Searching for song:  One Thing At A Time from artist:  Morgan Wallen\n",
      "Searching for song:  Whiskey On You from artist:  Nate Smith\n",
      "Searching for song:  Dawns from artist:  Zach Bryan Featuring Maggie Rogers\n",
      "Song not found!\n",
      "Searching for song:  Love Again from artist:  The Kid LAROI\n",
      "\n",
      "Waiting 10 seconds before the next chunk\n",
      "Chunk:  50\n",
      "Searching for song:  Everything I Love from artist:  Morgan Wallen\n",
      "Searching for song:  Lift Me Up from artist:  Rihanna\n",
      "Searching for song:  Que Vuelvas from artist:  Carin Leon X Grupo Frontera\n",
      "Song not found!\n",
      "Searching for song:  Low from artist:  SZA\n",
      "Searching for song:  Tennessee Orange from artist:  Megan Moroney\n",
      "Searching for song:  X Si Volvemos from artist:  Karol G x Romeo Santos\n",
      "Searching for song:  Bloody Mary from artist:  Lady Gaga\n",
      "Searching for song:  Handle On You from artist:  Parker McCollum\n",
      "Searching for song:  What He Didn't Do from artist:  Carly Pearce\n",
      "Searching for song:  Freestyle from artist:  Lil Baby\n",
      "Searching for song:  Wild As Her from artist:  Corey Kent\n",
      "Searching for song:  Spin Bout U from artist:  Drake & 21 Savage\n",
      "Song not found!\n",
      "Searching for song:  You Didn't from artist:  Brett Young\n",
      "Searching for song:  Growin' Up And Gettin' Old from artist:  Luke Combs\n",
      "Searching for song:  Nonsense from artist:  Sabrina Carpenter\n",
      "Searching for song:  Here With Me from artist:  d4vd\n",
      "Searching for song:  The Color Violet from artist:  Tory Lanez\n",
      "Searching for song:  AMG from artist:  Gabito Ballesteros, Peso Pluma & Natanael Cano\n",
      "Song not found!\n",
      "Searching for song:  10:35 from artist:  Tiesto Featuring Tate McRae\n",
      "Song not found!\n",
      "Searching for song:  La Bachata from artist:  Manuel Turizo\n",
      "Searching for song:  Forget Me from artist:  Lewis Capaldi\n",
      "Searching for song:  Shut Up My Moms Calling from artist:  Hotel Ugly\n",
      "Searching for song:  Blind from artist:  SZA\n",
      "Searching for song:  OMG from artist:  NewJeans\n",
      "Searching for song:  No Se Va from artist:  Grupo Frontera\n",
      "Searching for song:  Love You Better from artist:  Future\n",
      "Searching for song:  La Jumpa from artist:  Arcangel & Bad Bunny\n",
      "Song not found!\n",
      "Searching for song:  PRC from artist:  Peso Pluma X Natanael Cano\n",
      "Song not found!\n",
      "Searching for song:  That's What Tequila Does from artist:  Jason Aldean\n",
      "Searching for song:  Love Language from artist:  SZA\n",
      "Searching for song:  Tennessee Fan from artist:  Morgan Wallen\n",
      "Searching for song:  Ditto from artist:  NewJeans\n",
      "Searching for song:  Watch The World Burn from artist:  Falling In Reverse\n",
      "Searching for song:  Human from artist:  Cody Johnson\n",
      "Searching for song:  In Ha Mood from artist:  Ice Spice\n",
      "Searching for song:  Back End from artist:  Finesse2Tymes\n",
      "Searching for song:  Do It Again from artist:  NLE Choppa & 2Rare\n",
      "Searching for song:  Hey Mor from artist:  Ozuna Featuring Feid\n",
      "Song not found!\n",
      "Searching for song:  Too Many Nights from artist:  Metro Boomin Featuring Don Toliver & Future\n",
      "Song not found!\n",
      "Searching for song:  Ghost In The Machine from artist:  SZA Featuring Phoebe Bridgers\n",
      "Song not found!\n",
      "Searching for song:  Fin de Semana from artist:  Junior H X Oscar Maydon\n",
      "Song not found!\n",
      "Searching for song:  Snap from artist:  Rosa Linn\n",
      "Searching for song:  California Breeze from artist:  Lil Baby\n",
      "Searching for song:  I'm Not Here To Make Friends from artist:  Sam Smith\n",
      "Song not found!\n",
      "Searching for song:  Gato de Noche from artist:  Nengo Flow & Bad Bunny\n",
      "Song not found!\n",
      "Searching for song:  Yandel 150 from artist:  Yandel & Feid\n",
      "Song not found!\n",
      "Searching for song:  Heart To Heart from artist:  Mac DeMarco\n",
      "Searching for song:  Next Thing You Know from artist:  Jordan Davis\n",
      "Searching for song:  Never Gonna Not Dance Again from artist:  P!nk\n",
      "Searching for song:  Open Arms from artist:  SZA Featuring Travis Scott\n",
      "Song not found!\n",
      "\n",
      "Waiting 10 seconds before the next chunk\n"
     ]
    }
   ],
   "source": [
    "hot_songs = get_id(hot_song)"
   ]
  },
  {
   "cell_type": "code",
   "execution_count": 8,
   "id": "d057c1e2",
   "metadata": {},
   "outputs": [
    {
     "data": {
      "text/html": [
       "<div>\n",
       "<style scoped>\n",
       "    .dataframe tbody tr th:only-of-type {\n",
       "        vertical-align: middle;\n",
       "    }\n",
       "\n",
       "    .dataframe tbody tr th {\n",
       "        vertical-align: top;\n",
       "    }\n",
       "\n",
       "    .dataframe thead th {\n",
       "        text-align: right;\n",
       "    }\n",
       "</style>\n",
       "<table border=\"1\" class=\"dataframe\">\n",
       "  <thead>\n",
       "    <tr style=\"text-align: right;\">\n",
       "      <th></th>\n",
       "      <th>song</th>\n",
       "      <th>artist</th>\n",
       "      <th>id</th>\n",
       "    </tr>\n",
       "  </thead>\n",
       "  <tbody>\n",
       "    <tr>\n",
       "      <th>0</th>\n",
       "      <td>Flowers</td>\n",
       "      <td>Miley Cyrus</td>\n",
       "      <td>0yLdNVWF3Srea0uzk55zFn</td>\n",
       "    </tr>\n",
       "    <tr>\n",
       "      <th>1</th>\n",
       "      <td>Kill Bill</td>\n",
       "      <td>SZA</td>\n",
       "      <td>3OHfY25tqY28d16oZczHc8</td>\n",
       "    </tr>\n",
       "    <tr>\n",
       "      <th>2</th>\n",
       "      <td>Last Night</td>\n",
       "      <td>Morgan Wallen</td>\n",
       "      <td>59uQI0PADDKeE6UZDTJEe8</td>\n",
       "    </tr>\n",
       "    <tr>\n",
       "      <th>3</th>\n",
       "      <td>Unholy</td>\n",
       "      <td>Sam Smith &amp; Kim Petras</td>\n",
       "      <td>3bXRd0yVb5sw2WVblM5URR</td>\n",
       "    </tr>\n",
       "    <tr>\n",
       "      <th>4</th>\n",
       "      <td>Creepin'</td>\n",
       "      <td>Metro Boomin, The Weeknd &amp; 21 Savage</td>\n",
       "      <td>2dHHgzDwk4BJdRwy9uXhTO</td>\n",
       "    </tr>\n",
       "    <tr>\n",
       "      <th>...</th>\n",
       "      <td>...</td>\n",
       "      <td>...</td>\n",
       "      <td>...</td>\n",
       "    </tr>\n",
       "    <tr>\n",
       "      <th>91</th>\n",
       "      <td>Snap</td>\n",
       "      <td>Rosa Linn</td>\n",
       "      <td>76OGwb5RA9h4FxQPT33ekc</td>\n",
       "    </tr>\n",
       "    <tr>\n",
       "      <th>92</th>\n",
       "      <td>California Breeze</td>\n",
       "      <td>Lil Baby</td>\n",
       "      <td>6ug9fUi5oLLgQgOF1G8WkM</td>\n",
       "    </tr>\n",
       "    <tr>\n",
       "      <th>96</th>\n",
       "      <td>Heart To Heart</td>\n",
       "      <td>Mac DeMarco</td>\n",
       "      <td>7EAMXbLcL0qXmciM5SwMh2</td>\n",
       "    </tr>\n",
       "    <tr>\n",
       "      <th>97</th>\n",
       "      <td>Next Thing You Know</td>\n",
       "      <td>Jordan Davis</td>\n",
       "      <td>2lNTHWu2I5Tcz9ukWsV5Jj</td>\n",
       "    </tr>\n",
       "    <tr>\n",
       "      <th>98</th>\n",
       "      <td>Never Gonna Not Dance Again</td>\n",
       "      <td>P!nk</td>\n",
       "      <td>6sZo5nJIsFWXefRCCexpx0</td>\n",
       "    </tr>\n",
       "  </tbody>\n",
       "</table>\n",
       "<p>73 rows × 3 columns</p>\n",
       "</div>"
      ],
      "text/plain": [
       "                           song                                artist  \\\n",
       "0                       Flowers                           Miley Cyrus   \n",
       "1                     Kill Bill                                   SZA   \n",
       "2                    Last Night                         Morgan Wallen   \n",
       "3                        Unholy                Sam Smith & Kim Petras   \n",
       "4                      Creepin'  Metro Boomin, The Weeknd & 21 Savage   \n",
       "..                          ...                                   ...   \n",
       "91                         Snap                             Rosa Linn   \n",
       "92            California Breeze                              Lil Baby   \n",
       "96               Heart To Heart                           Mac DeMarco   \n",
       "97          Next Thing You Know                          Jordan Davis   \n",
       "98  Never Gonna Not Dance Again                                  P!nk   \n",
       "\n",
       "                        id  \n",
       "0   0yLdNVWF3Srea0uzk55zFn  \n",
       "1   3OHfY25tqY28d16oZczHc8  \n",
       "2   59uQI0PADDKeE6UZDTJEe8  \n",
       "3   3bXRd0yVb5sw2WVblM5URR  \n",
       "4   2dHHgzDwk4BJdRwy9uXhTO  \n",
       "..                     ...  \n",
       "91  76OGwb5RA9h4FxQPT33ekc  \n",
       "92  6ug9fUi5oLLgQgOF1G8WkM  \n",
       "96  7EAMXbLcL0qXmciM5SwMh2  \n",
       "97  2lNTHWu2I5Tcz9ukWsV5Jj  \n",
       "98  6sZo5nJIsFWXefRCCexpx0  \n",
       "\n",
       "[73 rows x 3 columns]"
      ]
     },
     "execution_count": 8,
     "metadata": {},
     "output_type": "execute_result"
    }
   ],
   "source": [
    "hot_songs = hot_songs.loc[~hot_songs['id'].str.contains('None')]\n",
    "hot_songs"
   ]
  },
  {
   "cell_type": "markdown",
   "id": "9b7b523f",
   "metadata": {},
   "source": [
    "### define a search_song function "
   ]
  },
  {
   "cell_type": "markdown",
   "id": "366c82d2",
   "metadata": {},
   "source": [
    "def search_song(title):\n",
    "    id_list=[]\n",
    "    for song in title:\n",
    "        try:\n",
    "            results = sp.search(q=\"track:\"+song,limit=1)\n",
    "            \n",
    "            item=results['tracks']['items'][0]\n",
    "            #print(\"The name of song is: '{}' and the id is: {}\".format(item['name'],item['id']))\n",
    "        except:\n",
    "            item['id'] = 'None'\n",
    "        id_list.append(item['id'])\n",
    "    return id_list            "
   ]
  },
  {
   "cell_type": "markdown",
   "id": "15cac9df",
   "metadata": {},
   "source": [
    "### hot_song"
   ]
  },
  {
   "cell_type": "markdown",
   "id": "f4f46712",
   "metadata": {},
   "source": [
    "title_hot = hot_song['song'].unique()\n",
    "title_hot"
   ]
  },
  {
   "cell_type": "markdown",
   "id": "873139b1",
   "metadata": {},
   "source": [
    "len(title_hot)"
   ]
  },
  {
   "cell_type": "code",
   "execution_count": 9,
   "id": "12d52d0f",
   "metadata": {},
   "outputs": [],
   "source": [
    "#id_list_hot= search_song(title_hot)"
   ]
  },
  {
   "cell_type": "code",
   "execution_count": 10,
   "id": "8b239f94",
   "metadata": {},
   "outputs": [],
   "source": [
    "#id_list_hot"
   ]
  },
  {
   "cell_type": "code",
   "execution_count": 11,
   "id": "cdc4df5e",
   "metadata": {},
   "outputs": [],
   "source": [
    "#len(id_list_hot)"
   ]
  },
  {
   "cell_type": "code",
   "execution_count": 12,
   "id": "67a92c88",
   "metadata": {},
   "outputs": [],
   "source": [
    "#len(hot_song['song'])"
   ]
  },
  {
   "cell_type": "code",
   "execution_count": 13,
   "id": "2bad576f",
   "metadata": {},
   "outputs": [],
   "source": [
    "#hot_song['id']=id_list_hot"
   ]
  },
  {
   "cell_type": "code",
   "execution_count": 14,
   "id": "2f8d4f24",
   "metadata": {},
   "outputs": [],
   "source": [
    "#hot_song.head()"
   ]
  },
  {
   "cell_type": "code",
   "execution_count": 15,
   "id": "8608eaf1",
   "metadata": {},
   "outputs": [],
   "source": [
    "#hot_song['id'].value_counts()"
   ]
  },
  {
   "cell_type": "code",
   "execution_count": 16,
   "id": "6ec5e60a",
   "metadata": {},
   "outputs": [],
   "source": [
    "#Dhot_song = hot_song.drop(hot_song[hot_song['id']=='None'].index)"
   ]
  },
  {
   "cell_type": "code",
   "execution_count": 17,
   "id": "d418cfc4",
   "metadata": {},
   "outputs": [],
   "source": [
    "#Dhot_song['song'].value_counts()"
   ]
  },
  {
   "cell_type": "code",
   "execution_count": 18,
   "id": "4788b62e",
   "metadata": {},
   "outputs": [],
   "source": [
    "# to drop the songs with duplicate id (here no duplicate id)\n",
    "#hot_song.drop_duplicates(subset=['id'],keep=False, inplace=True) "
   ]
  },
  {
   "cell_type": "code",
   "execution_count": 19,
   "id": "6be2c918",
   "metadata": {},
   "outputs": [],
   "source": [
    "#hot_song['song'].value_counts()"
   ]
  },
  {
   "cell_type": "markdown",
   "id": "81a60540",
   "metadata": {},
   "source": [
    "### not_hot_song"
   ]
  },
  {
   "cell_type": "code",
   "execution_count": 20,
   "id": "0f79c755",
   "metadata": {},
   "outputs": [],
   "source": [
    "#title_not_hot = not_hot_song['song'].unique()\n",
    "#title_not_hot"
   ]
  },
  {
   "cell_type": "code",
   "execution_count": 21,
   "id": "506b49cc",
   "metadata": {},
   "outputs": [],
   "source": [
    "#id_list_not_hot= search_song(title_not_hot)"
   ]
  },
  {
   "cell_type": "code",
   "execution_count": 22,
   "id": "158cf971",
   "metadata": {},
   "outputs": [],
   "source": [
    "#id_list_not_hot"
   ]
  },
  {
   "cell_type": "code",
   "execution_count": null,
   "id": "6dd905c7",
   "metadata": {},
   "outputs": [],
   "source": []
  },
  {
   "cell_type": "markdown",
   "id": "680bcdf9",
   "metadata": {},
   "source": [
    "### define a get_audio_features(list_of_songs) function"
   ]
  },
  {
   "cell_type": "code",
   "execution_count": null,
   "id": "7aa689e1",
   "metadata": {},
   "outputs": [],
   "source": []
  }
 ],
 "metadata": {
  "kernelspec": {
   "display_name": "Python 3 (ipykernel)",
   "language": "python",
   "name": "python3"
  },
  "language_info": {
   "codemirror_mode": {
    "name": "ipython",
    "version": 3
   },
   "file_extension": ".py",
   "mimetype": "text/x-python",
   "name": "python",
   "nbconvert_exporter": "python",
   "pygments_lexer": "ipython3",
   "version": "3.9.13"
  }
 },
 "nbformat": 4,
 "nbformat_minor": 5
}
